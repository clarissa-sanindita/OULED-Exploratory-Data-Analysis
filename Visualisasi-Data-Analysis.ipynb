{
  "cells": [
    {
      "cell_type": "markdown",
      "metadata": {
        "id": "s0Jqnlvfq-PQ"
      },
      "source": [
        "Tugas Analasisi Big Data\n",
        "\n",
        "Nama : Clarissa Sanindita Reikisyifa\n",
        "\n",
        "NIM : 202010370311232"
      ]
    },
    {
      "cell_type": "markdown",
      "metadata": {
        "id": "6XwEadf8Z9Ph"
      },
      "source": [
        "<h2>Load Dataset and Library</h2>"
      ]
    },
    {
      "cell_type": "code",
      "execution_count": 1,
      "metadata": {
        "id": "sjCGRk-SdXrb"
      },
      "outputs": [],
      "source": [
        "import pandas as pd\n",
        "import seaborn as sns\n",
        "import numpy as np\n",
        "import matplotlib.pyplot as plt\n",
        "from sklearn.preprocessing import LabelEncoder, StandardScaler"
      ]
    },
    {
      "cell_type": "code",
      "execution_count": 2,
      "metadata": {
        "id": "91EpqTWGfY28"
      },
      "outputs": [],
      "source": [
        "df_ass = pd.read_csv('D:/_KULIAH/SEMESTER 7/Analisis Big Data/Dataset/assessments.csv')\n",
        "df_cours = pd.read_csv('D:/_KULIAH/SEMESTER 7/Analisis Big Data/Dataset/courses.csv')\n",
        "df_studass = pd.read_csv('D:/_KULIAH/SEMESTER 7/Analisis Big Data/Dataset/studentAssessment.csv')\n",
        "df_studin = pd.read_csv('D:/_KULIAH/SEMESTER 7/Analisis Big Data/Dataset/studentInfo.csv')\n",
        "df_studreg = pd.read_csv('D:/_KULIAH/SEMESTER 7/Analisis Big Data/Dataset/studentRegistration.csv')\n",
        "df_studvle = pd.read_csv('D:/_KULIAH/SEMESTER 7/Analisis Big Data/Dataset/studentVle.csv')\n",
        "df_vle = pd.read_csv('D:/_KULIAH/SEMESTER 7/Analisis Big Data/Dataset/vle.csv')"
      ]
    },
    {
      "cell_type": "markdown",
      "metadata": {
        "id": "T9y9uA25f3sy"
      },
      "source": [
        "<h2>Assesments</h2>"
      ]
    },
    {
      "cell_type": "markdown",
      "metadata": {
        "id": "I5McKRwuOWw4"
      },
      "source": [
        "**EDA**"
      ]
    },
    {
      "cell_type": "code",
      "execution_count": 3,
      "metadata": {
        "colab": {
          "base_uri": "https://localhost:8080/"
        },
        "id": "KvjlYkjZdznb",
        "outputId": "e0080a97-f769-4341-f3e8-9e89c1aea740"
      },
      "outputs": [
        {
          "data": {
            "text/plain": [
              "(206, 6)"
            ]
          },
          "execution_count": 3,
          "metadata": {},
          "output_type": "execute_result"
        }
      ],
      "source": [
        "df_ass.shape"
      ]
    },
    {
      "cell_type": "markdown",
      "metadata": {
        "id": "NXLOd86fX3QX"
      },
      "source": [
        "(206, 6) memberi informasi bahwa dataset terdiri dari 206 baris data dan 6 kolom variabel."
      ]
    },
    {
      "cell_type": "code",
      "execution_count": 4,
      "metadata": {
        "colab": {
          "base_uri": "https://localhost:8080/",
          "height": 206
        },
        "id": "UMEWrIQed-gx",
        "outputId": "f722c0bf-944d-4510-8801-d3f76345ac9d"
      },
      "outputs": [
        {
          "data": {
            "text/html": [
              "<div>\n",
              "<style scoped>\n",
              "    .dataframe tbody tr th:only-of-type {\n",
              "        vertical-align: middle;\n",
              "    }\n",
              "\n",
              "    .dataframe tbody tr th {\n",
              "        vertical-align: top;\n",
              "    }\n",
              "\n",
              "    .dataframe thead th {\n",
              "        text-align: right;\n",
              "    }\n",
              "</style>\n",
              "<table border=\"1\" class=\"dataframe\">\n",
              "  <thead>\n",
              "    <tr style=\"text-align: right;\">\n",
              "      <th></th>\n",
              "      <th>code_module</th>\n",
              "      <th>code_presentation</th>\n",
              "      <th>id_assessment</th>\n",
              "      <th>assessment_type</th>\n",
              "      <th>date</th>\n",
              "      <th>weight</th>\n",
              "    </tr>\n",
              "  </thead>\n",
              "  <tbody>\n",
              "    <tr>\n",
              "      <th>0</th>\n",
              "      <td>AAA</td>\n",
              "      <td>2013J</td>\n",
              "      <td>1752</td>\n",
              "      <td>TMA</td>\n",
              "      <td>19.0</td>\n",
              "      <td>10.0</td>\n",
              "    </tr>\n",
              "    <tr>\n",
              "      <th>1</th>\n",
              "      <td>AAA</td>\n",
              "      <td>2013J</td>\n",
              "      <td>1753</td>\n",
              "      <td>TMA</td>\n",
              "      <td>54.0</td>\n",
              "      <td>20.0</td>\n",
              "    </tr>\n",
              "    <tr>\n",
              "      <th>2</th>\n",
              "      <td>AAA</td>\n",
              "      <td>2013J</td>\n",
              "      <td>1754</td>\n",
              "      <td>TMA</td>\n",
              "      <td>117.0</td>\n",
              "      <td>20.0</td>\n",
              "    </tr>\n",
              "    <tr>\n",
              "      <th>3</th>\n",
              "      <td>AAA</td>\n",
              "      <td>2013J</td>\n",
              "      <td>1755</td>\n",
              "      <td>TMA</td>\n",
              "      <td>166.0</td>\n",
              "      <td>20.0</td>\n",
              "    </tr>\n",
              "    <tr>\n",
              "      <th>4</th>\n",
              "      <td>AAA</td>\n",
              "      <td>2013J</td>\n",
              "      <td>1756</td>\n",
              "      <td>TMA</td>\n",
              "      <td>215.0</td>\n",
              "      <td>30.0</td>\n",
              "    </tr>\n",
              "  </tbody>\n",
              "</table>\n",
              "</div>"
            ],
            "text/plain": [
              "  code_module code_presentation  id_assessment assessment_type   date  weight\n",
              "0         AAA             2013J           1752             TMA   19.0    10.0\n",
              "1         AAA             2013J           1753             TMA   54.0    20.0\n",
              "2         AAA             2013J           1754             TMA  117.0    20.0\n",
              "3         AAA             2013J           1755             TMA  166.0    20.0\n",
              "4         AAA             2013J           1756             TMA  215.0    30.0"
            ]
          },
          "execution_count": 4,
          "metadata": {},
          "output_type": "execute_result"
        }
      ],
      "source": [
        "df_ass.head()"
      ]
    },
    {
      "cell_type": "code",
      "execution_count": 5,
      "metadata": {
        "colab": {
          "base_uri": "https://localhost:8080/"
        },
        "id": "Qx7Ha7EDd_-i",
        "outputId": "a9eed2ab-b31a-4cf0-9b58-d125bbfb6d46"
      },
      "outputs": [
        {
          "name": "stdout",
          "output_type": "stream",
          "text": [
            "<class 'pandas.core.frame.DataFrame'>\n",
            "RangeIndex: 206 entries, 0 to 205\n",
            "Data columns (total 6 columns):\n",
            " #   Column             Non-Null Count  Dtype  \n",
            "---  ------             --------------  -----  \n",
            " 0   code_module        206 non-null    object \n",
            " 1   code_presentation  206 non-null    object \n",
            " 2   id_assessment      206 non-null    int64  \n",
            " 3   assessment_type    206 non-null    object \n",
            " 4   date               195 non-null    float64\n",
            " 5   weight             206 non-null    float64\n",
            "dtypes: float64(2), int64(1), object(3)\n",
            "memory usage: 9.8+ KB\n"
          ]
        }
      ],
      "source": [
        "df_ass.info()"
      ]
    },
    {
      "cell_type": "markdown",
      "metadata": {
        "id": "lRaLZ07-bnQm"
      },
      "source": [
        "Penjelasan feature\n",
        "\n",
        "1   code_presentation : kode identifikasi modul tempat penilaian berada.\n",
        "\n",
        "2   id_assessment : nomor identifikasi penilaian.\n",
        "\n",
        "3   assessment_type : tipe penilaian. Ada tiga jenis penilaian: Tutor Marked Assessment (TMA), Computer Marked Assessment (CMA) dan Ujian Akhir (Exam)\n",
        "\n",
        "4   date : informasi tanggal penyerahan akhir penilaian yang dihitung sebagai jumlah hari sejak dimulainya presentasi modul. Tanggal mulai presentasi diberi angka 0 (nol).\n",
        "\n",
        "5   weight : bobot penilaian dalam %. Biasanya, Ujian diperlakukan secara terpisah dan memiliki bobot 100%; jumlah seluruh penilaian lainnya adalah 100%.\n",
        "\n",
        "6. code_module : kode untuk suatu modul dalam program pendidikan atau kursus"
      ]
    },
    {
      "cell_type": "markdown",
      "metadata": {
        "id": "lY2ccLo3OSoB"
      },
      "source": [
        "**Cleaning Data**"
      ]
    },
    {
      "cell_type": "code",
      "execution_count": 6,
      "metadata": {
        "colab": {
          "base_uri": "https://localhost:8080/"
        },
        "id": "YiRW9NCleJ2U",
        "outputId": "55c727fa-e966-4fdd-ccc0-faeab10ad9d7"
      },
      "outputs": [
        {
          "name": "stdout",
          "output_type": "stream",
          "text": [
            "Nilai Null:\n",
            "code_module           0\n",
            "code_presentation     0\n",
            "id_assessment         0\n",
            "assessment_type       0\n",
            "date                 11\n",
            "weight                0\n",
            "dtype: int64\n",
            "\n",
            "Nilai Duplikat: 0\n"
          ]
        }
      ],
      "source": [
        "nilai_null = df_ass.isnull().sum()\n",
        "print(\"Nilai Null:\")\n",
        "print(nilai_null)\n",
        "\n",
        "nilai_duplikat = df_ass.duplicated().sum()\n",
        "print(\"\\nNilai Duplikat:\", nilai_duplikat)"
      ]
    },
    {
      "cell_type": "markdown",
      "metadata": {
        "id": "KQgXVfgROZ6t"
      },
      "source": [
        "Terdapat 11 data bernilai null dan 0 data yang duplikat"
      ]
    },
    {
      "cell_type": "code",
      "execution_count": 7,
      "metadata": {
        "id": "v2G0HgaJehda"
      },
      "outputs": [],
      "source": [
        "df_ass=df_ass.ffill() #mengisi nilai yang hilang\n",
        "df_ass=df_ass.drop_duplicates() #menghapus nilai yang duplikat"
      ]
    },
    {
      "cell_type": "code",
      "execution_count": 8,
      "metadata": {
        "colab": {
          "base_uri": "https://localhost:8080/"
        },
        "id": "2tWSIYmAgwdx",
        "outputId": "f01a755e-28ff-4cb7-b2d9-ccc93a2552fb"
      },
      "outputs": [
        {
          "data": {
            "text/plain": [
              "code_module          0\n",
              "code_presentation    0\n",
              "id_assessment        0\n",
              "assessment_type      0\n",
              "date                 0\n",
              "weight               0\n",
              "dtype: int64"
            ]
          },
          "execution_count": 8,
          "metadata": {},
          "output_type": "execute_result"
        }
      ],
      "source": [
        "df_ass.isna().sum()"
      ]
    },
    {
      "cell_type": "markdown",
      "metadata": {
        "id": "m3hWsPKOgw_p"
      },
      "source": [
        "**Visualisasi**"
      ]
    },
    {
      "cell_type": "code",
      "execution_count": 9,
      "metadata": {},
      "outputs": [
        {
          "data": {
            "text/plain": [
              "array(['AAA', 'BBB', 'CCC', 'DDD', 'EEE', 'FFF', 'GGG'], dtype=object)"
            ]
          },
          "execution_count": 9,
          "metadata": {},
          "output_type": "execute_result"
        }
      ],
      "source": [
        "df_ass[\"code_module\"].unique()"
      ]
    },
    {
      "cell_type": "markdown",
      "metadata": {
        "id": "lb7pCKazTfn-"
      },
      "source": [
        "<h2>Course</h2>"
      ]
    },
    {
      "cell_type": "markdown",
      "metadata": {
        "id": "Z8XkAqO7TfoE"
      },
      "source": [
        "**EDA**"
      ]
    },
    {
      "cell_type": "code",
      "execution_count": 10,
      "metadata": {
        "colab": {
          "base_uri": "https://localhost:8080/"
        },
        "id": "uYfVFzAiTfoG",
        "outputId": "9a0a3395-e79e-4337-8c68-1fc6a2da8852"
      },
      "outputs": [
        {
          "data": {
            "text/plain": [
              "(22, 3)"
            ]
          },
          "execution_count": 10,
          "metadata": {},
          "output_type": "execute_result"
        }
      ],
      "source": [
        "df_cours.shape"
      ]
    },
    {
      "cell_type": "markdown",
      "metadata": {
        "id": "JR-L_mb9TfoH"
      },
      "source": [
        "(22, 3) memberi informasi bahwa dataset terdiri dari 22 baris data dan 3 kolom variabel."
      ]
    },
    {
      "cell_type": "code",
      "execution_count": 11,
      "metadata": {
        "colab": {
          "base_uri": "https://localhost:8080/",
          "height": 226
        },
        "id": "-3q4Xr-5TfoI",
        "outputId": "404e14a6-803a-4440-b3f3-847a90aad758"
      },
      "outputs": [
        {
          "data": {
            "text/html": [
              "<div>\n",
              "<style scoped>\n",
              "    .dataframe tbody tr th:only-of-type {\n",
              "        vertical-align: middle;\n",
              "    }\n",
              "\n",
              "    .dataframe tbody tr th {\n",
              "        vertical-align: top;\n",
              "    }\n",
              "\n",
              "    .dataframe thead th {\n",
              "        text-align: right;\n",
              "    }\n",
              "</style>\n",
              "<table border=\"1\" class=\"dataframe\">\n",
              "  <thead>\n",
              "    <tr style=\"text-align: right;\">\n",
              "      <th></th>\n",
              "      <th>code_module</th>\n",
              "      <th>code_presentation</th>\n",
              "      <th>module_presentation_length</th>\n",
              "    </tr>\n",
              "  </thead>\n",
              "  <tbody>\n",
              "    <tr>\n",
              "      <th>0</th>\n",
              "      <td>AAA</td>\n",
              "      <td>2013J</td>\n",
              "      <td>268</td>\n",
              "    </tr>\n",
              "    <tr>\n",
              "      <th>1</th>\n",
              "      <td>AAA</td>\n",
              "      <td>2014J</td>\n",
              "      <td>269</td>\n",
              "    </tr>\n",
              "    <tr>\n",
              "      <th>2</th>\n",
              "      <td>BBB</td>\n",
              "      <td>2013J</td>\n",
              "      <td>268</td>\n",
              "    </tr>\n",
              "    <tr>\n",
              "      <th>3</th>\n",
              "      <td>BBB</td>\n",
              "      <td>2014J</td>\n",
              "      <td>262</td>\n",
              "    </tr>\n",
              "    <tr>\n",
              "      <th>4</th>\n",
              "      <td>BBB</td>\n",
              "      <td>2013B</td>\n",
              "      <td>240</td>\n",
              "    </tr>\n",
              "  </tbody>\n",
              "</table>\n",
              "</div>"
            ],
            "text/plain": [
              "  code_module code_presentation  module_presentation_length\n",
              "0         AAA             2013J                         268\n",
              "1         AAA             2014J                         269\n",
              "2         BBB             2013J                         268\n",
              "3         BBB             2014J                         262\n",
              "4         BBB             2013B                         240"
            ]
          },
          "execution_count": 11,
          "metadata": {},
          "output_type": "execute_result"
        }
      ],
      "source": [
        "df_cours.head()"
      ]
    },
    {
      "cell_type": "code",
      "execution_count": 12,
      "metadata": {
        "colab": {
          "base_uri": "https://localhost:8080/"
        },
        "id": "rHZOeMqTTfoJ",
        "outputId": "40e1a731-1593-433f-e98e-e861ee94af12"
      },
      "outputs": [
        {
          "name": "stdout",
          "output_type": "stream",
          "text": [
            "<class 'pandas.core.frame.DataFrame'>\n",
            "RangeIndex: 22 entries, 0 to 21\n",
            "Data columns (total 3 columns):\n",
            " #   Column                      Non-Null Count  Dtype \n",
            "---  ------                      --------------  ----- \n",
            " 0   code_module                 22 non-null     object\n",
            " 1   code_presentation           22 non-null     object\n",
            " 2   module_presentation_length  22 non-null     int64 \n",
            "dtypes: int64(1), object(2)\n",
            "memory usage: 660.0+ bytes\n"
          ]
        }
      ],
      "source": [
        "df_cours.info()"
      ]
    },
    {
      "cell_type": "markdown",
      "metadata": {
        "id": "VgL_kLIXTfoJ"
      },
      "source": [
        "Penjelasan feature\n",
        "\n",
        "1   code_module : nama kode modul, yang berfungsi sebagai pengenal.\n",
        "\n",
        "2   code_presentation : nama kode presentasi. Terdiri dari tahun dan “B” untuk presentasi yang dimulai pada bulan Februari dan “J” untuk presentasi yang dimulai pada bulan Oktober.\n",
        "\n",
        "3   length : panjang presentasi modul dalam hari."
      ]
    },
    {
      "cell_type": "markdown",
      "metadata": {
        "id": "xd64-oENWRjV"
      },
      "source": [
        "Menampilkan nilai tertinggi hingga nilai terendah, nilai rata-rata, dan standar deviasi tiap feature"
      ]
    },
    {
      "cell_type": "markdown",
      "metadata": {
        "id": "T2M4JMY4TfoM"
      },
      "source": [
        "**Cleaning Data**"
      ]
    },
    {
      "cell_type": "code",
      "execution_count": 13,
      "metadata": {
        "colab": {
          "base_uri": "https://localhost:8080/"
        },
        "id": "HNVj3Z0YTfoO",
        "outputId": "fc377798-0126-4f72-d7f5-f012a7743210"
      },
      "outputs": [
        {
          "name": "stdout",
          "output_type": "stream",
          "text": [
            "Nilai Null:\n",
            "code_module                   0\n",
            "code_presentation             0\n",
            "module_presentation_length    0\n",
            "dtype: int64\n",
            "\n",
            "Nilai Duplikat: 0\n"
          ]
        }
      ],
      "source": [
        "nilai_null = df_cours.isnull().sum()\n",
        "print(\"Nilai Null:\")\n",
        "print(nilai_null)\n",
        "\n",
        "nilai_duplikat = df_cours.duplicated().sum()\n",
        "print(\"\\nNilai Duplikat:\", nilai_duplikat)"
      ]
    },
    {
      "cell_type": "markdown",
      "metadata": {
        "id": "cBTLMnpgTfoP"
      },
      "source": [
        "Tidak ada nilai null dan nilai duplikat"
      ]
    },
    {
      "cell_type": "markdown",
      "metadata": {
        "id": "IRGcuwckifo9"
      },
      "source": [
        "<h2>Student Assessment</h2>"
      ]
    },
    {
      "cell_type": "markdown",
      "metadata": {
        "id": "kh92tbsBPybl"
      },
      "source": [
        "**EDA**"
      ]
    },
    {
      "cell_type": "code",
      "execution_count": 14,
      "metadata": {
        "colab": {
          "base_uri": "https://localhost:8080/"
        },
        "id": "yyoGDjffifo-",
        "outputId": "347e8970-6dab-4b78-8bed-29c5407ce455"
      },
      "outputs": [
        {
          "data": {
            "text/plain": [
              "(173912, 5)"
            ]
          },
          "execution_count": 14,
          "metadata": {},
          "output_type": "execute_result"
        }
      ],
      "source": [
        "df_studass.shape"
      ]
    },
    {
      "cell_type": "markdown",
      "metadata": {
        "id": "95fQH9byP1Gd"
      },
      "source": [
        "(173912, 5) memberi informasi bahwa dataset terdiri dari 173912 baris data dan 5 kolom variabel.\n"
      ]
    },
    {
      "cell_type": "code",
      "execution_count": 15,
      "metadata": {
        "colab": {
          "base_uri": "https://localhost:8080/",
          "height": 226
        },
        "id": "IBJrRb79ifo-",
        "outputId": "7f705571-fd4f-4ffb-c794-a4cb334999ac"
      },
      "outputs": [
        {
          "data": {
            "text/html": [
              "<div>\n",
              "<style scoped>\n",
              "    .dataframe tbody tr th:only-of-type {\n",
              "        vertical-align: middle;\n",
              "    }\n",
              "\n",
              "    .dataframe tbody tr th {\n",
              "        vertical-align: top;\n",
              "    }\n",
              "\n",
              "    .dataframe thead th {\n",
              "        text-align: right;\n",
              "    }\n",
              "</style>\n",
              "<table border=\"1\" class=\"dataframe\">\n",
              "  <thead>\n",
              "    <tr style=\"text-align: right;\">\n",
              "      <th></th>\n",
              "      <th>id_assessment</th>\n",
              "      <th>id_student</th>\n",
              "      <th>date_submitted</th>\n",
              "      <th>is_banked</th>\n",
              "      <th>score</th>\n",
              "    </tr>\n",
              "  </thead>\n",
              "  <tbody>\n",
              "    <tr>\n",
              "      <th>0</th>\n",
              "      <td>1752</td>\n",
              "      <td>11391</td>\n",
              "      <td>18</td>\n",
              "      <td>0</td>\n",
              "      <td>78.0</td>\n",
              "    </tr>\n",
              "    <tr>\n",
              "      <th>1</th>\n",
              "      <td>1752</td>\n",
              "      <td>28400</td>\n",
              "      <td>22</td>\n",
              "      <td>0</td>\n",
              "      <td>70.0</td>\n",
              "    </tr>\n",
              "    <tr>\n",
              "      <th>2</th>\n",
              "      <td>1752</td>\n",
              "      <td>31604</td>\n",
              "      <td>17</td>\n",
              "      <td>0</td>\n",
              "      <td>72.0</td>\n",
              "    </tr>\n",
              "    <tr>\n",
              "      <th>3</th>\n",
              "      <td>1752</td>\n",
              "      <td>32885</td>\n",
              "      <td>26</td>\n",
              "      <td>0</td>\n",
              "      <td>69.0</td>\n",
              "    </tr>\n",
              "    <tr>\n",
              "      <th>4</th>\n",
              "      <td>1752</td>\n",
              "      <td>38053</td>\n",
              "      <td>19</td>\n",
              "      <td>0</td>\n",
              "      <td>79.0</td>\n",
              "    </tr>\n",
              "  </tbody>\n",
              "</table>\n",
              "</div>"
            ],
            "text/plain": [
              "   id_assessment  id_student  date_submitted  is_banked  score\n",
              "0           1752       11391              18          0   78.0\n",
              "1           1752       28400              22          0   70.0\n",
              "2           1752       31604              17          0   72.0\n",
              "3           1752       32885              26          0   69.0\n",
              "4           1752       38053              19          0   79.0"
            ]
          },
          "execution_count": 15,
          "metadata": {},
          "output_type": "execute_result"
        }
      ],
      "source": [
        "df_studass.head()"
      ]
    },
    {
      "cell_type": "code",
      "execution_count": 16,
      "metadata": {
        "colab": {
          "base_uri": "https://localhost:8080/"
        },
        "id": "mfhbb-boifo_",
        "outputId": "606c4cab-3bf1-4253-d069-6ca2f5570827"
      },
      "outputs": [
        {
          "name": "stdout",
          "output_type": "stream",
          "text": [
            "<class 'pandas.core.frame.DataFrame'>\n",
            "RangeIndex: 173912 entries, 0 to 173911\n",
            "Data columns (total 5 columns):\n",
            " #   Column          Non-Null Count   Dtype  \n",
            "---  ------          --------------   -----  \n",
            " 0   id_assessment   173912 non-null  int64  \n",
            " 1   id_student      173912 non-null  int64  \n",
            " 2   date_submitted  173912 non-null  int64  \n",
            " 3   is_banked       173912 non-null  int64  \n",
            " 4   score           173739 non-null  float64\n",
            "dtypes: float64(1), int64(4)\n",
            "memory usage: 6.6 MB\n"
          ]
        }
      ],
      "source": [
        "df_studass.info()"
      ]
    },
    {
      "cell_type": "markdown",
      "metadata": {
        "id": "O9-yHFYvP9Bx"
      },
      "source": [
        "Penjelasan feature\n",
        "\n",
        "1   id_assessment : nomor identifikasi penilaian.\n",
        "\n",
        "2   id_student : nomor identifikasi unik untuk siswa.\n",
        "\n",
        "3   date_submitted : tanggal penyerahan siswa, diukur sebagai jumlah hari sejak dimulainya presentasi modul.\n",
        "\n",
        "4   is_banked : tanda status yang menunjukkan bahwa hasil penilaian telah ditransfer dari presentasi sebelumnya.\n",
        "\n",
        "5   score : skor siswa dalam penilaian ini. Kisarannya adalah dari 0 hingga 100. Skor yang lebih rendah dari 40 diartikan sebagai Gagal. Nilainya berkisar antara 0 hingga 100."
      ]
    },
    {
      "cell_type": "markdown",
      "metadata": {
        "id": "UQ-rrm3CQmPj"
      },
      "source": [
        "**Cleaning Data**"
      ]
    },
    {
      "cell_type": "code",
      "execution_count": 17,
      "metadata": {
        "colab": {
          "base_uri": "https://localhost:8080/"
        },
        "id": "gCKfE7ikifpA",
        "outputId": "6c587747-be17-4a51-fc70-b791fcf73759"
      },
      "outputs": [
        {
          "name": "stdout",
          "output_type": "stream",
          "text": [
            "Nilai Null:\n",
            "id_assessment       0\n",
            "id_student          0\n",
            "date_submitted      0\n",
            "is_banked           0\n",
            "score             173\n",
            "dtype: int64\n",
            "\n",
            "Nilai Duplikat: 0\n"
          ]
        }
      ],
      "source": [
        "nilai_null = df_studass.isnull().sum()\n",
        "print(\"Nilai Null:\")\n",
        "print(nilai_null)\n",
        "\n",
        "nilai_duplikat = df_studass.duplicated().sum()\n",
        "print(\"\\nNilai Duplikat:\", nilai_duplikat)"
      ]
    },
    {
      "cell_type": "markdown",
      "metadata": {
        "id": "ItBbdDzsQobR"
      },
      "source": [
        "Terdapat 173 data bernilai null dan 0 data yang duplikat"
      ]
    },
    {
      "cell_type": "code",
      "execution_count": 18,
      "metadata": {
        "id": "zUU6X6xKifpA"
      },
      "outputs": [],
      "source": [
        "df_studass=df_studass.ffill()\n",
        "df_studass=df_studass.drop_duplicates()"
      ]
    },
    {
      "cell_type": "code",
      "execution_count": 19,
      "metadata": {
        "colab": {
          "base_uri": "https://localhost:8080/"
        },
        "id": "6zVGm4KqifpB",
        "outputId": "09af4d5e-c5f5-4180-d265-1a0c89bb7f76"
      },
      "outputs": [
        {
          "data": {
            "text/plain": [
              "id_assessment     0\n",
              "id_student        0\n",
              "date_submitted    0\n",
              "is_banked         0\n",
              "score             0\n",
              "dtype: int64"
            ]
          },
          "execution_count": 19,
          "metadata": {},
          "output_type": "execute_result"
        }
      ],
      "source": [
        "df_studass.isna().sum()"
      ]
    },
    {
      "cell_type": "markdown",
      "metadata": {
        "id": "D7YuY1bhp4z6"
      },
      "source": [
        "<h2>Student Info</h2>"
      ]
    },
    {
      "cell_type": "code",
      "execution_count": 20,
      "metadata": {
        "colab": {
          "base_uri": "https://localhost:8080/"
        },
        "id": "KevHMJeXp4z7",
        "outputId": "776ddc17-86c9-40dd-f896-8a46bde0a1f3"
      },
      "outputs": [
        {
          "data": {
            "text/plain": [
              "(32593, 12)"
            ]
          },
          "execution_count": 20,
          "metadata": {},
          "output_type": "execute_result"
        }
      ],
      "source": [
        "df_studin.shape"
      ]
    },
    {
      "cell_type": "markdown",
      "metadata": {
        "id": "gxsSO24jUtYO"
      },
      "source": [
        "(32593, 12) memberi informasi bahwa dataset terdiri dari 173912 baris data dan 12 kolom variabel."
      ]
    },
    {
      "cell_type": "code",
      "execution_count": 21,
      "metadata": {
        "colab": {
          "base_uri": "https://localhost:8080/",
          "height": 365
        },
        "id": "m868eX7up4z8",
        "outputId": "c369f22c-482e-4312-c1aa-1d0b6989cc1a"
      },
      "outputs": [
        {
          "data": {
            "text/html": [
              "<div>\n",
              "<style scoped>\n",
              "    .dataframe tbody tr th:only-of-type {\n",
              "        vertical-align: middle;\n",
              "    }\n",
              "\n",
              "    .dataframe tbody tr th {\n",
              "        vertical-align: top;\n",
              "    }\n",
              "\n",
              "    .dataframe thead th {\n",
              "        text-align: right;\n",
              "    }\n",
              "</style>\n",
              "<table border=\"1\" class=\"dataframe\">\n",
              "  <thead>\n",
              "    <tr style=\"text-align: right;\">\n",
              "      <th></th>\n",
              "      <th>code_module</th>\n",
              "      <th>code_presentation</th>\n",
              "      <th>id_student</th>\n",
              "      <th>gender</th>\n",
              "      <th>region</th>\n",
              "      <th>highest_education</th>\n",
              "      <th>imd_band</th>\n",
              "      <th>age_band</th>\n",
              "      <th>num_of_prev_attempts</th>\n",
              "      <th>studied_credits</th>\n",
              "      <th>disability</th>\n",
              "      <th>final_result</th>\n",
              "    </tr>\n",
              "  </thead>\n",
              "  <tbody>\n",
              "    <tr>\n",
              "      <th>0</th>\n",
              "      <td>AAA</td>\n",
              "      <td>2013J</td>\n",
              "      <td>11391</td>\n",
              "      <td>M</td>\n",
              "      <td>East Anglian Region</td>\n",
              "      <td>HE Qualification</td>\n",
              "      <td>90-100%</td>\n",
              "      <td>55&lt;=</td>\n",
              "      <td>0</td>\n",
              "      <td>240</td>\n",
              "      <td>N</td>\n",
              "      <td>Pass</td>\n",
              "    </tr>\n",
              "    <tr>\n",
              "      <th>1</th>\n",
              "      <td>AAA</td>\n",
              "      <td>2013J</td>\n",
              "      <td>28400</td>\n",
              "      <td>F</td>\n",
              "      <td>Scotland</td>\n",
              "      <td>HE Qualification</td>\n",
              "      <td>20-30%</td>\n",
              "      <td>35-55</td>\n",
              "      <td>0</td>\n",
              "      <td>60</td>\n",
              "      <td>N</td>\n",
              "      <td>Pass</td>\n",
              "    </tr>\n",
              "    <tr>\n",
              "      <th>2</th>\n",
              "      <td>AAA</td>\n",
              "      <td>2013J</td>\n",
              "      <td>30268</td>\n",
              "      <td>F</td>\n",
              "      <td>North Western Region</td>\n",
              "      <td>A Level or Equivalent</td>\n",
              "      <td>30-40%</td>\n",
              "      <td>35-55</td>\n",
              "      <td>0</td>\n",
              "      <td>60</td>\n",
              "      <td>Y</td>\n",
              "      <td>Withdrawn</td>\n",
              "    </tr>\n",
              "    <tr>\n",
              "      <th>3</th>\n",
              "      <td>AAA</td>\n",
              "      <td>2013J</td>\n",
              "      <td>31604</td>\n",
              "      <td>F</td>\n",
              "      <td>South East Region</td>\n",
              "      <td>A Level or Equivalent</td>\n",
              "      <td>50-60%</td>\n",
              "      <td>35-55</td>\n",
              "      <td>0</td>\n",
              "      <td>60</td>\n",
              "      <td>N</td>\n",
              "      <td>Pass</td>\n",
              "    </tr>\n",
              "    <tr>\n",
              "      <th>4</th>\n",
              "      <td>AAA</td>\n",
              "      <td>2013J</td>\n",
              "      <td>32885</td>\n",
              "      <td>F</td>\n",
              "      <td>West Midlands Region</td>\n",
              "      <td>Lower Than A Level</td>\n",
              "      <td>50-60%</td>\n",
              "      <td>0-35</td>\n",
              "      <td>0</td>\n",
              "      <td>60</td>\n",
              "      <td>N</td>\n",
              "      <td>Pass</td>\n",
              "    </tr>\n",
              "  </tbody>\n",
              "</table>\n",
              "</div>"
            ],
            "text/plain": [
              "  code_module code_presentation  id_student gender                region  \\\n",
              "0         AAA             2013J       11391      M   East Anglian Region   \n",
              "1         AAA             2013J       28400      F              Scotland   \n",
              "2         AAA             2013J       30268      F  North Western Region   \n",
              "3         AAA             2013J       31604      F     South East Region   \n",
              "4         AAA             2013J       32885      F  West Midlands Region   \n",
              "\n",
              "       highest_education imd_band age_band  num_of_prev_attempts  \\\n",
              "0       HE Qualification  90-100%     55<=                     0   \n",
              "1       HE Qualification   20-30%    35-55                     0   \n",
              "2  A Level or Equivalent   30-40%    35-55                     0   \n",
              "3  A Level or Equivalent   50-60%    35-55                     0   \n",
              "4     Lower Than A Level   50-60%     0-35                     0   \n",
              "\n",
              "   studied_credits disability final_result  \n",
              "0              240          N         Pass  \n",
              "1               60          N         Pass  \n",
              "2               60          Y    Withdrawn  \n",
              "3               60          N         Pass  \n",
              "4               60          N         Pass  "
            ]
          },
          "execution_count": 21,
          "metadata": {},
          "output_type": "execute_result"
        }
      ],
      "source": [
        "df_studin.head()"
      ]
    },
    {
      "cell_type": "code",
      "execution_count": 22,
      "metadata": {
        "colab": {
          "base_uri": "https://localhost:8080/"
        },
        "id": "u-iO-_oop4z9",
        "outputId": "15489994-d4d2-41b4-e8b3-9e07512b7500"
      },
      "outputs": [
        {
          "name": "stdout",
          "output_type": "stream",
          "text": [
            "<class 'pandas.core.frame.DataFrame'>\n",
            "RangeIndex: 32593 entries, 0 to 32592\n",
            "Data columns (total 12 columns):\n",
            " #   Column                Non-Null Count  Dtype \n",
            "---  ------                --------------  ----- \n",
            " 0   code_module           32593 non-null  object\n",
            " 1   code_presentation     32593 non-null  object\n",
            " 2   id_student            32593 non-null  int64 \n",
            " 3   gender                32593 non-null  object\n",
            " 4   region                32593 non-null  object\n",
            " 5   highest_education     32593 non-null  object\n",
            " 6   imd_band              31482 non-null  object\n",
            " 7   age_band              32593 non-null  object\n",
            " 8   num_of_prev_attempts  32593 non-null  int64 \n",
            " 9   studied_credits       32593 non-null  int64 \n",
            " 10  disability            32593 non-null  object\n",
            " 11  final_result          32593 non-null  object\n",
            "dtypes: int64(3), object(9)\n",
            "memory usage: 3.0+ MB\n"
          ]
        }
      ],
      "source": [
        "df_studin.info()"
      ]
    },
    {
      "cell_type": "markdown",
      "metadata": {
        "id": "J4R3KkwqU1j9"
      },
      "source": [
        "Penjelasan feature\n",
        "\n",
        "1   code_module : kode identifikasi untuk modul tempat siswa terdaftar.\n",
        "\n",
        "2   code_presentation : kode identifikasi presentasi saat siswa terdaftar pada modul.\n",
        "\n",
        "3   id_student : nomor identifikasi unik untuk siswa.\n",
        "\n",
        "4   gender : jenis kelamin siswa.\n",
        "\n",
        "5   region : mengidentifikasi wilayah geografis, tempat tinggal siswa saat mengambil presentasi modul.\n",
        "\n",
        "6   highest_education : tingkat pendidikan siswa tertinggi saat masuk ke presentasi modul.\n",
        "\n",
        "7   imd_band : menentukan pita Indeks Kerusakan Berganda di tempat siswa tinggal selama presentasi modul.\n",
        "\n",
        "8   age_band : kelompok usia siswa.\n",
        "\n",
        "9   num_of_prev_attempts : berapa kali siswa mencoba modul ini.\n",
        "\n",
        "10   studied_credits : jumlah total SKS untuk modul yang sedang dipelajari siswa.\n",
        "\n",
        "11  disability : menunjukkan apakah siswa telah dinyatakan cacat.\n",
        "\n",
        "12  final_result : hasil akhir siswa dalam presentasi modul."
      ]
    },
    {
      "cell_type": "markdown",
      "metadata": {
        "id": "mK01oI9bVaec"
      },
      "source": [
        "**Data Cleaning**"
      ]
    },
    {
      "cell_type": "code",
      "execution_count": 23,
      "metadata": {
        "colab": {
          "base_uri": "https://localhost:8080/"
        },
        "id": "8zZwgvbAp4z_",
        "outputId": "431232bb-d2d8-43b6-b07f-34ae02566f12"
      },
      "outputs": [
        {
          "name": "stdout",
          "output_type": "stream",
          "text": [
            "Nilai Null:\n",
            "code_module                0\n",
            "code_presentation          0\n",
            "id_student                 0\n",
            "gender                     0\n",
            "region                     0\n",
            "highest_education          0\n",
            "imd_band                1111\n",
            "age_band                   0\n",
            "num_of_prev_attempts       0\n",
            "studied_credits            0\n",
            "disability                 0\n",
            "final_result               0\n",
            "dtype: int64\n",
            "\n",
            "Nilai Duplikat: 0\n"
          ]
        }
      ],
      "source": [
        "nilai_null = df_studin.isnull().sum()\n",
        "print(\"Nilai Null:\")\n",
        "print(nilai_null)\n",
        "\n",
        "nilai_duplikat = df_studin.duplicated().sum()\n",
        "print(\"\\nNilai Duplikat:\", nilai_duplikat)"
      ]
    },
    {
      "cell_type": "markdown",
      "metadata": {
        "id": "XTeWB_6MVdOL"
      },
      "source": [
        "Terdapat 1111 data bernilai null dan 0 data yang duplikat"
      ]
    },
    {
      "cell_type": "code",
      "execution_count": 24,
      "metadata": {
        "id": "nkFRf3kYp4z_"
      },
      "outputs": [],
      "source": [
        "df_studin = df_studin.ffill()\n",
        "df_studin = df_studin.drop_duplicates()"
      ]
    },
    {
      "cell_type": "code",
      "execution_count": 25,
      "metadata": {
        "colab": {
          "base_uri": "https://localhost:8080/"
        },
        "id": "T4P772d7p40A",
        "outputId": "72e6c2c0-3599-4603-8e77-f5a52689ac88"
      },
      "outputs": [
        {
          "data": {
            "text/plain": [
              "code_module             0\n",
              "code_presentation       0\n",
              "id_student              0\n",
              "gender                  0\n",
              "region                  0\n",
              "highest_education       0\n",
              "imd_band                0\n",
              "age_band                0\n",
              "num_of_prev_attempts    0\n",
              "studied_credits         0\n",
              "disability              0\n",
              "final_result            0\n",
              "dtype: int64"
            ]
          },
          "execution_count": 25,
          "metadata": {},
          "output_type": "execute_result"
        }
      ],
      "source": [
        "df_studin.isna().sum()"
      ]
    },
    {
      "cell_type": "markdown",
      "metadata": {
        "id": "tEAk_gPPWeww"
      },
      "source": [
        "<h2>Student Registrasi</h2>"
      ]
    },
    {
      "cell_type": "code",
      "execution_count": 26,
      "metadata": {
        "colab": {
          "base_uri": "https://localhost:8080/"
        },
        "id": "TXGTUT0EWewy",
        "outputId": "969279af-cbce-4215-f928-29419c155227"
      },
      "outputs": [
        {
          "data": {
            "text/plain": [
              "(32593, 5)"
            ]
          },
          "execution_count": 26,
          "metadata": {},
          "output_type": "execute_result"
        }
      ],
      "source": [
        "df_studreg.shape"
      ]
    },
    {
      "cell_type": "markdown",
      "metadata": {
        "id": "sxbn2U65Wewz"
      },
      "source": [
        "(32593, 5) memberi informasi bahwa dataset terdiri dari 173912 baris data dan 5 kolom variabel."
      ]
    },
    {
      "cell_type": "code",
      "execution_count": 27,
      "metadata": {
        "colab": {
          "base_uri": "https://localhost:8080/",
          "height": 206
        },
        "id": "1oEu4TySWewz",
        "outputId": "d4a58528-5bc9-4bea-d87f-68ad27dc19a7"
      },
      "outputs": [
        {
          "data": {
            "text/html": [
              "<div>\n",
              "<style scoped>\n",
              "    .dataframe tbody tr th:only-of-type {\n",
              "        vertical-align: middle;\n",
              "    }\n",
              "\n",
              "    .dataframe tbody tr th {\n",
              "        vertical-align: top;\n",
              "    }\n",
              "\n",
              "    .dataframe thead th {\n",
              "        text-align: right;\n",
              "    }\n",
              "</style>\n",
              "<table border=\"1\" class=\"dataframe\">\n",
              "  <thead>\n",
              "    <tr style=\"text-align: right;\">\n",
              "      <th></th>\n",
              "      <th>code_module</th>\n",
              "      <th>code_presentation</th>\n",
              "      <th>id_student</th>\n",
              "      <th>date_registration</th>\n",
              "      <th>date_unregistration</th>\n",
              "    </tr>\n",
              "  </thead>\n",
              "  <tbody>\n",
              "    <tr>\n",
              "      <th>0</th>\n",
              "      <td>AAA</td>\n",
              "      <td>2013J</td>\n",
              "      <td>11391</td>\n",
              "      <td>-159.0</td>\n",
              "      <td>NaN</td>\n",
              "    </tr>\n",
              "    <tr>\n",
              "      <th>1</th>\n",
              "      <td>AAA</td>\n",
              "      <td>2013J</td>\n",
              "      <td>28400</td>\n",
              "      <td>-53.0</td>\n",
              "      <td>NaN</td>\n",
              "    </tr>\n",
              "    <tr>\n",
              "      <th>2</th>\n",
              "      <td>AAA</td>\n",
              "      <td>2013J</td>\n",
              "      <td>30268</td>\n",
              "      <td>-92.0</td>\n",
              "      <td>12.0</td>\n",
              "    </tr>\n",
              "    <tr>\n",
              "      <th>3</th>\n",
              "      <td>AAA</td>\n",
              "      <td>2013J</td>\n",
              "      <td>31604</td>\n",
              "      <td>-52.0</td>\n",
              "      <td>NaN</td>\n",
              "    </tr>\n",
              "    <tr>\n",
              "      <th>4</th>\n",
              "      <td>AAA</td>\n",
              "      <td>2013J</td>\n",
              "      <td>32885</td>\n",
              "      <td>-176.0</td>\n",
              "      <td>NaN</td>\n",
              "    </tr>\n",
              "  </tbody>\n",
              "</table>\n",
              "</div>"
            ],
            "text/plain": [
              "  code_module code_presentation  id_student  date_registration  \\\n",
              "0         AAA             2013J       11391             -159.0   \n",
              "1         AAA             2013J       28400              -53.0   \n",
              "2         AAA             2013J       30268              -92.0   \n",
              "3         AAA             2013J       31604              -52.0   \n",
              "4         AAA             2013J       32885             -176.0   \n",
              "\n",
              "   date_unregistration  \n",
              "0                  NaN  \n",
              "1                  NaN  \n",
              "2                 12.0  \n",
              "3                  NaN  \n",
              "4                  NaN  "
            ]
          },
          "execution_count": 27,
          "metadata": {},
          "output_type": "execute_result"
        }
      ],
      "source": [
        "df_studreg.head()"
      ]
    },
    {
      "cell_type": "code",
      "execution_count": 28,
      "metadata": {
        "colab": {
          "base_uri": "https://localhost:8080/"
        },
        "id": "7plM_O_GWew1",
        "outputId": "dffe9296-9523-4dab-a84d-c93c91cbee2d"
      },
      "outputs": [
        {
          "name": "stdout",
          "output_type": "stream",
          "text": [
            "<class 'pandas.core.frame.DataFrame'>\n",
            "RangeIndex: 32593 entries, 0 to 32592\n",
            "Data columns (total 5 columns):\n",
            " #   Column               Non-Null Count  Dtype  \n",
            "---  ------               --------------  -----  \n",
            " 0   code_module          32593 non-null  object \n",
            " 1   code_presentation    32593 non-null  object \n",
            " 2   id_student           32593 non-null  int64  \n",
            " 3   date_registration    32548 non-null  float64\n",
            " 4   date_unregistration  10072 non-null  float64\n",
            "dtypes: float64(2), int64(1), object(2)\n",
            "memory usage: 1.2+ MB\n"
          ]
        }
      ],
      "source": [
        "df_studreg.info()"
      ]
    },
    {
      "cell_type": "markdown",
      "metadata": {
        "id": "oJh7Xlz-Wew2"
      },
      "source": [
        "Penjelasan feature\n",
        "\n",
        "1   code_module : kode identifikasi untuk modul tempat siswa terdaftar.\n",
        "\n",
        "2   code_presentation : kode identifikasi presentasi saat siswa terdaftar pada modul.\n",
        "\n",
        "3   id_student : nomor identifikasi unik untuk siswa.\n",
        "\n",
        "4   date_registration : tanggal pendaftaran siswa pada presentasi modul, ini adalah jumlah hari yang diukur relatif terhadap dimulainya presentasi modul\n",
        "\n",
        "5   date_unregistration : tanggal pembatalan registrasi siswa dari presentasi modul, ini adalah jumlah hari yang diukur relatif terhadap awal presentasi modul.\n"
      ]
    },
    {
      "cell_type": "markdown",
      "metadata": {
        "id": "m67jSbcOWew5"
      },
      "source": [
        "**Data Cleaning**"
      ]
    },
    {
      "cell_type": "code",
      "execution_count": 29,
      "metadata": {
        "colab": {
          "base_uri": "https://localhost:8080/"
        },
        "id": "gmgATeYdWew6",
        "outputId": "68d8d450-679c-4124-ca6b-652be5d7c83b"
      },
      "outputs": [
        {
          "name": "stdout",
          "output_type": "stream",
          "text": [
            "Nilai Null:\n",
            "code_module                0\n",
            "code_presentation          0\n",
            "id_student                 0\n",
            "date_registration         45\n",
            "date_unregistration    22521\n",
            "dtype: int64\n",
            "\n",
            "Nilai Duplikat: 0\n"
          ]
        }
      ],
      "source": [
        "nilai_null = df_studreg.isnull().sum()\n",
        "print(\"Nilai Null:\")\n",
        "print(nilai_null)\n",
        "\n",
        "nilai_duplikat = df_studreg.duplicated().sum()\n",
        "print(\"\\nNilai Duplikat:\", nilai_duplikat)"
      ]
    },
    {
      "cell_type": "markdown",
      "metadata": {
        "id": "ivBNaEQnWew6"
      },
      "source": [
        "Terdapat 45 data bernilai null dari kolom date_unregistration dan 22521 dari kolom date_registration"
      ]
    },
    {
      "cell_type": "code",
      "execution_count": 30,
      "metadata": {
        "id": "8Zmp5Q-1Wew7"
      },
      "outputs": [],
      "source": [
        "df_studreg = df_studreg.ffill()\n",
        "df_studreg = df_studreg.drop_duplicates()"
      ]
    },
    {
      "cell_type": "code",
      "execution_count": 31,
      "metadata": {
        "colab": {
          "base_uri": "https://localhost:8080/"
        },
        "id": "NKn_3ovKWew7",
        "outputId": "ec7e03ca-9b39-42b0-9e5e-1b6d78a8c495"
      },
      "outputs": [
        {
          "data": {
            "text/plain": [
              "code_module            0\n",
              "code_presentation      0\n",
              "id_student             0\n",
              "date_registration      0\n",
              "date_unregistration    2\n",
              "dtype: int64"
            ]
          },
          "execution_count": 31,
          "metadata": {},
          "output_type": "execute_result"
        }
      ],
      "source": [
        "df_studreg.isna().sum()"
      ]
    },
    {
      "cell_type": "markdown",
      "metadata": {
        "id": "CfdpwFPWX35H"
      },
      "source": [
        "Setekah di cleaning ternyata ada 2 data yang tidak terganti"
      ]
    },
    {
      "cell_type": "markdown",
      "metadata": {
        "id": "mpyAmHX2YEtj"
      },
      "source": [
        "<h2>Student Vle</h2>"
      ]
    },
    {
      "cell_type": "markdown",
      "metadata": {
        "id": "PnWbQrvhYEtm"
      },
      "source": [
        "**EDA**"
      ]
    },
    {
      "cell_type": "code",
      "execution_count": 32,
      "metadata": {
        "colab": {
          "base_uri": "https://localhost:8080/"
        },
        "id": "5HWSxS4pYEtn",
        "outputId": "f7fe091e-2db5-4340-fec9-9f0512892e85"
      },
      "outputs": [
        {
          "data": {
            "text/plain": [
              "(10655280, 6)"
            ]
          },
          "execution_count": 32,
          "metadata": {},
          "output_type": "execute_result"
        }
      ],
      "source": [
        "df_studvle.shape"
      ]
    },
    {
      "cell_type": "markdown",
      "metadata": {
        "id": "foi8RO33YEto"
      },
      "source": [
        "(10655280, 6) memberi informasi bahwa dataset terdiri dari 0655280 baris data dan 6 kolom variabel.\n"
      ]
    },
    {
      "cell_type": "code",
      "execution_count": 33,
      "metadata": {
        "colab": {
          "base_uri": "https://localhost:8080/",
          "height": 206
        },
        "id": "rDiz2XFmYEtp",
        "outputId": "85258c80-e5e9-410b-d093-1eb38604935c"
      },
      "outputs": [
        {
          "data": {
            "text/html": [
              "<div>\n",
              "<style scoped>\n",
              "    .dataframe tbody tr th:only-of-type {\n",
              "        vertical-align: middle;\n",
              "    }\n",
              "\n",
              "    .dataframe tbody tr th {\n",
              "        vertical-align: top;\n",
              "    }\n",
              "\n",
              "    .dataframe thead th {\n",
              "        text-align: right;\n",
              "    }\n",
              "</style>\n",
              "<table border=\"1\" class=\"dataframe\">\n",
              "  <thead>\n",
              "    <tr style=\"text-align: right;\">\n",
              "      <th></th>\n",
              "      <th>code_module</th>\n",
              "      <th>code_presentation</th>\n",
              "      <th>id_student</th>\n",
              "      <th>id_site</th>\n",
              "      <th>date</th>\n",
              "      <th>sum_click</th>\n",
              "    </tr>\n",
              "  </thead>\n",
              "  <tbody>\n",
              "    <tr>\n",
              "      <th>0</th>\n",
              "      <td>AAA</td>\n",
              "      <td>2013J</td>\n",
              "      <td>28400</td>\n",
              "      <td>546652</td>\n",
              "      <td>-10</td>\n",
              "      <td>4</td>\n",
              "    </tr>\n",
              "    <tr>\n",
              "      <th>1</th>\n",
              "      <td>AAA</td>\n",
              "      <td>2013J</td>\n",
              "      <td>28400</td>\n",
              "      <td>546652</td>\n",
              "      <td>-10</td>\n",
              "      <td>1</td>\n",
              "    </tr>\n",
              "    <tr>\n",
              "      <th>2</th>\n",
              "      <td>AAA</td>\n",
              "      <td>2013J</td>\n",
              "      <td>28400</td>\n",
              "      <td>546652</td>\n",
              "      <td>-10</td>\n",
              "      <td>1</td>\n",
              "    </tr>\n",
              "    <tr>\n",
              "      <th>3</th>\n",
              "      <td>AAA</td>\n",
              "      <td>2013J</td>\n",
              "      <td>28400</td>\n",
              "      <td>546614</td>\n",
              "      <td>-10</td>\n",
              "      <td>11</td>\n",
              "    </tr>\n",
              "    <tr>\n",
              "      <th>4</th>\n",
              "      <td>AAA</td>\n",
              "      <td>2013J</td>\n",
              "      <td>28400</td>\n",
              "      <td>546714</td>\n",
              "      <td>-10</td>\n",
              "      <td>1</td>\n",
              "    </tr>\n",
              "  </tbody>\n",
              "</table>\n",
              "</div>"
            ],
            "text/plain": [
              "  code_module code_presentation  id_student  id_site  date  sum_click\n",
              "0         AAA             2013J       28400   546652   -10          4\n",
              "1         AAA             2013J       28400   546652   -10          1\n",
              "2         AAA             2013J       28400   546652   -10          1\n",
              "3         AAA             2013J       28400   546614   -10         11\n",
              "4         AAA             2013J       28400   546714   -10          1"
            ]
          },
          "execution_count": 33,
          "metadata": {},
          "output_type": "execute_result"
        }
      ],
      "source": [
        "df_studvle.head()"
      ]
    },
    {
      "cell_type": "code",
      "execution_count": 34,
      "metadata": {
        "colab": {
          "base_uri": "https://localhost:8080/"
        },
        "id": "K1K9kS3PYEtq",
        "outputId": "f977a874-5074-420a-9b71-6ea534ae9ed2"
      },
      "outputs": [
        {
          "name": "stdout",
          "output_type": "stream",
          "text": [
            "<class 'pandas.core.frame.DataFrame'>\n",
            "RangeIndex: 10655280 entries, 0 to 10655279\n",
            "Data columns (total 6 columns):\n",
            " #   Column             Dtype \n",
            "---  ------             ----- \n",
            " 0   code_module        object\n",
            " 1   code_presentation  object\n",
            " 2   id_student         int64 \n",
            " 3   id_site            int64 \n",
            " 4   date               int64 \n",
            " 5   sum_click          int64 \n",
            "dtypes: int64(4), object(2)\n",
            "memory usage: 487.8+ MB\n"
          ]
        }
      ],
      "source": [
        "df_studvle.info()"
      ]
    },
    {
      "cell_type": "markdown",
      "metadata": {
        "id": "mUEgSFUAYEtv"
      },
      "source": [
        "**Cleaning Data**"
      ]
    },
    {
      "cell_type": "code",
      "execution_count": 35,
      "metadata": {
        "colab": {
          "base_uri": "https://localhost:8080/"
        },
        "id": "uB5EaY4_YEtv",
        "outputId": "3ad7038d-1607-4cd5-af35-477f70a3e8f3"
      },
      "outputs": [
        {
          "name": "stdout",
          "output_type": "stream",
          "text": [
            "Nilai Null:\n",
            "code_module          0\n",
            "code_presentation    0\n",
            "id_student           0\n",
            "id_site              0\n",
            "date                 0\n",
            "sum_click            0\n",
            "dtype: int64\n",
            "\n",
            "Nilai Duplikat: 787170\n"
          ]
        }
      ],
      "source": [
        "nilai_null = df_studvle.isnull().sum()\n",
        "print(\"Nilai Null:\")\n",
        "print(nilai_null)\n",
        "\n",
        "nilai_duplikat = df_studvle.duplicated().sum()\n",
        "print(\"\\nNilai Duplikat:\", nilai_duplikat)"
      ]
    },
    {
      "cell_type": "markdown",
      "metadata": {
        "id": "uAmbuy6vYEtw"
      },
      "source": [
        "Terdapat  data 0 bernilai null dan 787170 data yang duplikat"
      ]
    },
    {
      "cell_type": "code",
      "execution_count": 36,
      "metadata": {
        "id": "vA1WZvhiYEtx"
      },
      "outputs": [],
      "source": [
        "df_studvle=df_studvle.ffill()\n",
        "df_studvle=df_studvle.drop_duplicates()"
      ]
    },
    {
      "cell_type": "code",
      "execution_count": 37,
      "metadata": {
        "colab": {
          "base_uri": "https://localhost:8080/"
        },
        "id": "jaTdRY2gYEty",
        "outputId": "7727dc35-a93f-4170-bf4d-40b3578af4ca"
      },
      "outputs": [
        {
          "data": {
            "text/plain": [
              "id_assessment     0\n",
              "id_student        0\n",
              "date_submitted    0\n",
              "is_banked         0\n",
              "score             0\n",
              "dtype: int64"
            ]
          },
          "execution_count": 37,
          "metadata": {},
          "output_type": "execute_result"
        }
      ],
      "source": [
        "df_studass.isna().sum()"
      ]
    },
    {
      "cell_type": "markdown",
      "metadata": {},
      "source": [
        "<h2>Student Assesment</h2>"
      ]
    },
    {
      "cell_type": "code",
      "execution_count": 51,
      "metadata": {},
      "outputs": [
        {
          "data": {
            "text/plain": [
              "(173912, 5)"
            ]
          },
          "execution_count": 51,
          "metadata": {},
          "output_type": "execute_result"
        }
      ],
      "source": [
        "df_studass.shape"
      ]
    },
    {
      "cell_type": "code",
      "execution_count": 52,
      "metadata": {},
      "outputs": [
        {
          "data": {
            "text/html": [
              "<div>\n",
              "<style scoped>\n",
              "    .dataframe tbody tr th:only-of-type {\n",
              "        vertical-align: middle;\n",
              "    }\n",
              "\n",
              "    .dataframe tbody tr th {\n",
              "        vertical-align: top;\n",
              "    }\n",
              "\n",
              "    .dataframe thead th {\n",
              "        text-align: right;\n",
              "    }\n",
              "</style>\n",
              "<table border=\"1\" class=\"dataframe\">\n",
              "  <thead>\n",
              "    <tr style=\"text-align: right;\">\n",
              "      <th></th>\n",
              "      <th>id_assessment</th>\n",
              "      <th>id_student</th>\n",
              "      <th>date_submitted</th>\n",
              "      <th>is_banked</th>\n",
              "      <th>score</th>\n",
              "    </tr>\n",
              "  </thead>\n",
              "  <tbody>\n",
              "    <tr>\n",
              "      <th>0</th>\n",
              "      <td>1752</td>\n",
              "      <td>11391</td>\n",
              "      <td>18</td>\n",
              "      <td>0</td>\n",
              "      <td>78.0</td>\n",
              "    </tr>\n",
              "    <tr>\n",
              "      <th>1</th>\n",
              "      <td>1752</td>\n",
              "      <td>28400</td>\n",
              "      <td>22</td>\n",
              "      <td>0</td>\n",
              "      <td>70.0</td>\n",
              "    </tr>\n",
              "    <tr>\n",
              "      <th>2</th>\n",
              "      <td>1752</td>\n",
              "      <td>31604</td>\n",
              "      <td>17</td>\n",
              "      <td>0</td>\n",
              "      <td>72.0</td>\n",
              "    </tr>\n",
              "    <tr>\n",
              "      <th>3</th>\n",
              "      <td>1752</td>\n",
              "      <td>32885</td>\n",
              "      <td>26</td>\n",
              "      <td>0</td>\n",
              "      <td>69.0</td>\n",
              "    </tr>\n",
              "    <tr>\n",
              "      <th>4</th>\n",
              "      <td>1752</td>\n",
              "      <td>38053</td>\n",
              "      <td>19</td>\n",
              "      <td>0</td>\n",
              "      <td>79.0</td>\n",
              "    </tr>\n",
              "  </tbody>\n",
              "</table>\n",
              "</div>"
            ],
            "text/plain": [
              "   id_assessment  id_student  date_submitted  is_banked  score\n",
              "0           1752       11391              18          0   78.0\n",
              "1           1752       28400              22          0   70.0\n",
              "2           1752       31604              17          0   72.0\n",
              "3           1752       32885              26          0   69.0\n",
              "4           1752       38053              19          0   79.0"
            ]
          },
          "execution_count": 52,
          "metadata": {},
          "output_type": "execute_result"
        }
      ],
      "source": [
        "df_studass.head()"
      ]
    },
    {
      "cell_type": "code",
      "execution_count": 53,
      "metadata": {},
      "outputs": [
        {
          "name": "stdout",
          "output_type": "stream",
          "text": [
            "<class 'pandas.core.frame.DataFrame'>\n",
            "RangeIndex: 173912 entries, 0 to 173911\n",
            "Data columns (total 5 columns):\n",
            " #   Column          Non-Null Count   Dtype  \n",
            "---  ------          --------------   -----  \n",
            " 0   id_assessment   173912 non-null  int64  \n",
            " 1   id_student      173912 non-null  int64  \n",
            " 2   date_submitted  173912 non-null  int64  \n",
            " 3   is_banked       173912 non-null  int64  \n",
            " 4   score           173912 non-null  float64\n",
            "dtypes: float64(1), int64(4)\n",
            "memory usage: 6.6 MB\n"
          ]
        }
      ],
      "source": [
        "df_studass.info()"
      ]
    },
    {
      "cell_type": "markdown",
      "metadata": {},
      "source": [
        "Penjelasan Kolom : \n",
        "- date_subscribed – tanggal penyerahan siswa, diukur sebagai jumlah hari sejak dimulainya presentasi modul.\n",
        "- is_banked – tanda status yang menunjukkan bahwa hasil penilaian telah ditransfer dari presentasi sebelumnya.\n",
        "- skor – skor siswa dalam penilaian ini. Kisarannya adalah dari 0 hingga 100. Skor yang lebih rendah dari 40 diartikan sebagai Gagal. Nilainya berkisar antara 0 hingga 100."
      ]
    },
    {
      "cell_type": "code",
      "execution_count": 54,
      "metadata": {},
      "outputs": [
        {
          "name": "stdout",
          "output_type": "stream",
          "text": [
            "Nilai Null:\n",
            "id_assessment     0\n",
            "id_student        0\n",
            "date_submitted    0\n",
            "is_banked         0\n",
            "score             0\n",
            "dtype: int64\n",
            "\n",
            "Nilai Duplikat: 0\n"
          ]
        }
      ],
      "source": [
        "nilai_null = df_studass.isnull().sum()\n",
        "print(\"Nilai Null:\")\n",
        "print(nilai_null)\n",
        "\n",
        "nilai_duplikat = df_studass.duplicated().sum()\n",
        "print(\"\\nNilai Duplikat:\", nilai_duplikat)"
      ]
    },
    {
      "cell_type": "markdown",
      "metadata": {},
      "source": [
        "<h2>Visualisasi Data</h2>"
      ]
    },
    {
      "cell_type": "markdown",
      "metadata": {},
      "source": [
        "**Distribusi Gender Siswa**"
      ]
    },
    {
      "cell_type": "markdown",
      "metadata": {},
      "source": [
        "Pada pie chart ditunjukkan jumlah laki-laki lebih banyak dari perempuan"
      ]
    },
    {
      "cell_type": "code",
      "execution_count": 38,
      "metadata": {},
      "outputs": [
        {
          "data": {
            "image/png": "[encoded data removed]",
            "text/plain": [
              "<Figure size 640x480 with 1 Axes>"
            ]
          },
          "metadata": {},
          "output_type": "display_data"
        }
      ],
      "source": [
        "gender_counts = df_studin['gender'].value_counts()\n",
        "labels = ['Male' if gender == 'M' else 'Female' for gender in gender_counts.index]\n",
        "\n",
        "gender_counts.plot(kind='pie', colors=['skyblue', 'lightcoral'], autopct='%1.1f%%', startangle=90, labels=labels)\n",
        "plt.title('Distribusi Gender')\n",
        "plt.ylabel('')\n",
        "plt.show()\n"
      ]
    },
    {
      "cell_type": "markdown",
      "metadata": {},
      "source": [
        "**Pendidikan Tertinggi Apa yang Paling Umum di Setiap Rentang Usia?**"
      ]
    },
    {
      "cell_type": "markdown",
      "metadata": {},
      "source": [
        "Berdasarkan distribusi pendidikan berdasarkan usia ditemukan bahwa pendidikan tertinggi ditiap rentang usia adalah :\n",
        "1. Rentang Usia 0-35 tahun\n",
        "Pendidikan \"Lower Than A Level\" memiliki posisi tertinggi pada kelompok usia ini. Hal ini mungkin karena pada kelompok usia tersebut siswa baru menyelesaikan pendidikan menengah atau dalam proses pendidikan tinggi.\n",
        "2. Rentang Usia 35-55 tahun\n",
        "Individu dalam kelompok usia ini memiliki latar belakang pendidikan yang hampir sama antara \"A Level or Equivalent\" dan \"Lower Than A Level\"\n",
        "3. Rentang Usia 55 tahun ke atas\n",
        "Pada kelompok usia ini kebanyakan individu telah lulus dari sarjana dengan memiliki level pendidikan \"HE Qualification\""
      ]
    },
    {
      "cell_type": "code",
      "execution_count": 39,
      "metadata": {},
      "outputs": [
        {
          "data": {
            "image/png": "[encoded data removed]",
            "text/plain": [
              "<Figure size 1500x800 with 1 Axes>"
            ]
          },
          "metadata": {},
          "output_type": "display_data"
        }
      ],
      "source": [
        "pivot_df = df_studin.groupby(['age_band', 'highest_education']).size().unstack().fillna(0)\n",
        "pivot_df.plot(kind='bar', stacked=True, figsize=(15,8))\n",
        "plt.title('Distribusi Pendidikan Tertinggi berdasarkan Usia')\n",
        "plt.xlabel('Usia')\n",
        "plt.ylabel('Jumlah Siswa')\n",
        "plt.show()"
      ]
    },
    {
      "cell_type": "code",
      "execution_count": 40,
      "metadata": {},
      "outputs": [
        {
          "data": {
            "text/html": [
              "<div>\n",
              "<style scoped>\n",
              "    .dataframe tbody tr th:only-of-type {\n",
              "        vertical-align: middle;\n",
              "    }\n",
              "\n",
              "    .dataframe tbody tr th {\n",
              "        vertical-align: top;\n",
              "    }\n",
              "\n",
              "    .dataframe thead th {\n",
              "        text-align: right;\n",
              "    }\n",
              "</style>\n",
              "<table border=\"1\" class=\"dataframe\">\n",
              "  <thead>\n",
              "    <tr style=\"text-align: right;\">\n",
              "      <th>highest_education</th>\n",
              "      <th>A Level or Equivalent</th>\n",
              "      <th>HE Qualification</th>\n",
              "      <th>Lower Than A Level</th>\n",
              "      <th>No Formal quals</th>\n",
              "      <th>Post Graduate Qualification</th>\n",
              "    </tr>\n",
              "    <tr>\n",
              "      <th>age_band</th>\n",
              "      <th></th>\n",
              "      <th></th>\n",
              "      <th></th>\n",
              "      <th></th>\n",
              "      <th></th>\n",
              "    </tr>\n",
              "  </thead>\n",
              "  <tbody>\n",
              "    <tr>\n",
              "      <th>0-35</th>\n",
              "      <td>10624.0</td>\n",
              "      <td>2612.0</td>\n",
              "      <td>9311.0</td>\n",
              "      <td>294.0</td>\n",
              "      <td>103.0</td>\n",
              "    </tr>\n",
              "    <tr>\n",
              "      <th>35-55</th>\n",
              "      <td>3381.0</td>\n",
              "      <td>1986.0</td>\n",
              "      <td>3814.0</td>\n",
              "      <td>53.0</td>\n",
              "      <td>199.0</td>\n",
              "    </tr>\n",
              "    <tr>\n",
              "      <th>55&lt;=</th>\n",
              "      <td>40.0</td>\n",
              "      <td>132.0</td>\n",
              "      <td>33.0</td>\n",
              "      <td>0.0</td>\n",
              "      <td>11.0</td>\n",
              "    </tr>\n",
              "  </tbody>\n",
              "</table>\n",
              "</div>"
            ],
            "text/plain": [
              "highest_education  A Level or Equivalent  HE Qualification  \\\n",
              "age_band                                                     \n",
              "0-35                             10624.0            2612.0   \n",
              "35-55                             3381.0            1986.0   \n",
              "55<=                                40.0             132.0   \n",
              "\n",
              "highest_education  Lower Than A Level  No Formal quals  \\\n",
              "age_band                                                 \n",
              "0-35                           9311.0            294.0   \n",
              "35-55                          3814.0             53.0   \n",
              "55<=                             33.0              0.0   \n",
              "\n",
              "highest_education  Post Graduate Qualification  \n",
              "age_band                                        \n",
              "0-35                                     103.0  \n",
              "35-55                                    199.0  \n",
              "55<=                                      11.0  "
            ]
          },
          "execution_count": 40,
          "metadata": {},
          "output_type": "execute_result"
        }
      ],
      "source": [
        "pivot_df = df_studin.groupby(['age_band', 'highest_education']).size().unstack().fillna(0)\n",
        "pivot_df"
      ]
    },
    {
      "cell_type": "markdown",
      "metadata": {},
      "source": [
        "**Tren Berdasarkan Modul, Semester, dan Jenis Ujian**"
      ]
    },
    {
      "cell_type": "markdown",
      "metadata": {},
      "source": [
        "Code Module : Beberapa modul seperti \"FFF\" dan \"GGG\" tampaknya lebih menarik bagi siswa\n",
        "\n",
        "Code Presentation : Siswa tampaknya memiliki preferensi tertentu untuk waktu pendaftaran, dengan \"2013J\" dan \"2014B\" sebagai periode paling populer.\n",
        "\n",
        "Assessment Type : TMA tampaknya merupakan metode penilaian yang dominan. Ini bisa disebabkan oleh fleksibilitasnya, feedback yang lebih personal."
      ]
    },
    {
      "cell_type": "code",
      "execution_count": 41,
      "metadata": {},
      "outputs": [
        {
          "data": {
            "image/png": "[encoded data removed]",
            "text/plain": [
              "<Figure size 1300x500 with 3 Axes>"
            ]
          },
          "metadata": {},
          "output_type": "display_data"
        }
      ],
      "source": [
        "fig, ax = plt.subplots(1, 3, figsize=(13, 5))\n",
        "\n",
        "ax[0].hist(df_ass['code_module'], bins=len(df_ass['code_module'].unique()), edgecolor='black')\n",
        "ax[0].set_xlabel('code_module')\n",
        "ax[0].set_ylabel('Count')\n",
        "ax[0].set_title('Histogram for code_module')\n",
        "\n",
        "ax[1].hist(df_ass['code_presentation'], bins=len(df_ass['code_presentation'].unique()), edgecolor='black')\n",
        "ax[1].set_xlabel('code_presentation')\n",
        "ax[1].set_ylabel('Count')\n",
        "ax[1].set_title('Histogram for code_presentation')\n",
        "\n",
        "ax[2].hist(df_ass['assessment_type'], bins=len(df_ass['assessment_type'].unique()), edgecolor='black')\n",
        "ax[2].set_xlabel('assessment_type')\n",
        "ax[2].set_ylabel('Count')\n",
        "ax[2].set_title('Histogram for assessment_type')\n",
        "\n",
        "plt.tight_layout()\n",
        "plt.show()\n"
      ]
    },
    {
      "cell_type": "markdown",
      "metadata": {},
      "source": [
        "**Distribusi Nilai Siswa**"
      ]
    },
    {
      "cell_type": "markdown",
      "metadata": {},
      "source": [
        "Distribusi nilai dari sekelompok siswa dan membandingkan kinerja antar siswa dalam kelompok ini. Hal ini bisa menjadi alat yang berguna untuk mengidentifikasi siswa mana yang mungkin memerlukan bantuan lebih lanjut atau untuk memahami variasi dalam skor dalam sampel awal dataset tersebut."
      ]
    },
    {
      "cell_type": "code",
      "execution_count": 42,
      "metadata": {},
      "outputs": [
        {
          "data": {
            "image/png": "[encoded data removed]",
            "text/plain": [
              "<Figure size 1200x600 with 1 Axes>"
            ]
          },
          "metadata": {},
          "output_type": "display_data"
        }
      ],
      "source": [
        "top_50_students = df_studass['id_student'].unique()[:50]\n",
        "sorted_data = df_studass.sort_values(by='id_student')\n",
        "filtered_data = sorted_data[sorted_data['id_student'].isin(top_50_students)]\n",
        "\n",
        "plt.figure(figsize=(12, 6))\n",
        "plt.bar(filtered_data['id_student'].astype(str), filtered_data['score'], color='lightblue')\n",
        "plt.xlabel('ID Student')\n",
        "plt.ylabel('Nilai')\n",
        "plt.title('Grafik Nilai untuk 50 ID Student Pertama')\n",
        "plt.xticks(rotation=90)\n",
        "plt.show()"
      ]
    },
    {
      "cell_type": "markdown",
      "metadata": {},
      "source": [
        "**Distribusi Hasil Akhir Siswa** "
      ]
    },
    {
      "cell_type": "markdown",
      "metadata": {},
      "source": [
        "Sebagian besar siswa berhasil menyelesaikan kursus dengan hasil yang memuaskan, namun ada juga sejumlah signifikan yang memilih untuk menarik diri sebelum menyelesaikannya. Meskipun banyak siswa yang berhasil, hanya sebagian kecil yang mencapai standar tertinggi, yaitu \"Distinction\". Upaya mungkin perlu dilakukan untuk memahami alasan mengapa begitu banyak siswa memilih untuk menarik diri dan bagaimana institusi atau program dapat mendukung mereka lebih baik untuk mencegah hal ini terjadi di masa depan."
      ]
    },
    {
      "cell_type": "code",
      "execution_count": 43,
      "metadata": {},
      "outputs": [
        {
          "data": {
            "image/png": "[encoded data removed]",
            "text/plain": [
              "<Figure size 1000x600 with 1 Axes>"
            ]
          },
          "metadata": {},
          "output_type": "display_data"
        }
      ],
      "source": [
        "(unique, counts) = np.unique(df_studin[\"final_result\"], return_counts=True)\n",
        "\n",
        "plt.figure(figsize=(10,6))\n",
        "plt.bar(unique, counts, color=['#A8E6CF', '#DCE9BE', '#FFD3B6', '#FFAAA5'])\n",
        "\n",
        "plt.title(\"Distribusi Hasil Akhir\")\n",
        "plt.xlabel(\"Hasil Akhir\")\n",
        "plt.ylabel(\"Jumlah Siswa\")\n",
        "plt.xticks(rotation=45)\n",
        "\n",
        "plt.tight_layout()\n",
        "plt.show()"
      ]
    },
    {
      "cell_type": "markdown",
      "metadata": {},
      "source": [
        "<h2>Relasi</h2>"
      ]
    },
    {
      "cell_type": "markdown",
      "metadata": {},
      "source": [
        "**Tabel Student Assasment dan Assasment**"
      ]
    },
    {
      "cell_type": "code",
      "execution_count": 44,
      "metadata": {},
      "outputs": [],
      "source": [
        "merged_data = pd.merge(df_studass, df_ass, on='id_assessment')"
      ]
    },
    {
      "cell_type": "markdown",
      "metadata": {},
      "source": [
        "**Rata-rata Nilai berdasarkan Tipe Assessment**"
      ]
    },
    {
      "cell_type": "markdown",
      "metadata": {},
      "source": [
        "Dari visualisasi ini, kita mendapat informasi mengenai rata-rata nilai siswa untuk assessment bertipe CMA paling tinggi, mendekati 80. Ini menunjukkan bahwa siswa umumnya memiliki kinerja yang sangat baik dalam assessment yang dinilai secara komputer.Rata-rata nilai untuk tipe assessment exam merupakan yang paling rendah adan di sekitar angka 60-an. Ini menunjukkan bahwa siswa rata-rata menemukan beberapa kesulitan atau tantangan ketika menghadapi assessment jenis exam."
      ]
    },
    {
      "cell_type": "code",
      "execution_count": 45,
      "metadata": {},
      "outputs": [
        {
          "data": {
            "image/png": "[encoded data removed]",
            "text/plain": [
              "<Figure size 640x480 with 1 Axes>"
            ]
          },
          "metadata": {},
          "output_type": "display_data"
        }
      ],
      "source": [
        "avg_scores = merged_data.groupby('assessment_type')['score'].mean()\n",
        "avg_scores.plot(kind='pie', autopct='%1.1f%%', startangle=90, colors=['lightblue', 'lightgreen', 'lightcoral'], explode=(0.1, 0, 0))\n",
        "plt.title('Proporsi Rata-rata Nilai berdasarkan Tipe Assessment')\n",
        "plt.ylabel('') \n",
        "plt.show()"
      ]
    },
    {
      "cell_type": "markdown",
      "metadata": {},
      "source": [
        "- Sebagian besar siswa cenderung mengumpulkan tugas mereka pada awal periode pengumpulan atau dalam waktu yang ditentukan oleh petugas pengajar, khususnya untuk tipe assessment TMA.\n",
        "- Untuk tipe assesment Exam sebarannya hanya ada di antara 200-300 hal ini menunjukkan exam pasti dan hanya dikerjakan di waktu tertentu saja."
      ]
    },
    {
      "cell_type": "code",
      "execution_count": 56,
      "metadata": {},
      "outputs": [
        {
          "data": {
            "image/png": "[encoded data removed]",
            "text/plain": [
              "<Figure size 1000x500 with 1 Axes>"
            ]
          },
          "metadata": {},
          "output_type": "display_data"
        }
      ],
      "source": [
        "plt.figure(figsize=(10, 5))\n",
        "for assessment_type in merged_data['assessment_type'].unique():\n",
        "    subset = merged_data[merged_data['assessment_type'] == assessment_type]\n",
        "    plt.scatter(subset['date_submitted'], subset['score'], label=assessment_type)\n",
        "\n",
        "plt.title('Distribusi Nilai berdasarkan Waktu Pengumpulan dan Tipe Assessment')\n",
        "plt.xlabel('Tanggal Pengumpulan')\n",
        "plt.ylabel('Nilai')\n",
        "plt.legend()\n",
        "plt.grid(True, axis='y', linestyle='--', linewidth=0.5)\n",
        "plt.show()"
      ]
    }
  ],
  "metadata": {
    "colab": {
      "provenance": [],
      "toc_visible": true
    },
    "kernelspec": {
      "display_name": "Python 3.11.5 ('bigdata')",
      "language": "python",
      "name": "python3"
    },
    "language_info": {
      "codemirror_mode": {
        "name": "ipython",
        "version": 3
      },
      "file_extension": ".py",
      "mimetype": "text/x-python",
      "name": "python",
      "nbconvert_exporter": "python",
      "pygments_lexer": "ipython3",
      "version": "3.11.5"
    },
    "vscode": {
      "interpreter": {
        "hash": "fa00f14c3c32145aa9ef2407eb8d8ca0aad5530659c0b66db0c035f3cac1ddf6"
      }
    }
  },
  "nbformat": 4,
  "nbformat_minor": 0
}
